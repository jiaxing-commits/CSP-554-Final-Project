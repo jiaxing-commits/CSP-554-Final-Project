{
 "cells": [
  {
   "cell_type": "code",
   "execution_count": 15,
   "metadata": {},
   "outputs": [
    {
     "ename": "ModuleNotFoundError",
     "evalue": "No module named 'tensorflow'",
     "output_type": "error",
     "traceback": [
      "\u001b[1;31m---------------------------------------------------------------------------\u001b[0m",
      "\u001b[1;31mModuleNotFoundError\u001b[0m                       Traceback (most recent call last)",
      "\u001b[1;32m<ipython-input-15-7bb9b32d1c80>\u001b[0m in \u001b[0;36m<module>\u001b[1;34m\u001b[0m\n\u001b[0;32m      1\u001b[0m \u001b[1;32mimport\u001b[0m \u001b[0mnumpy\u001b[0m \u001b[1;32mas\u001b[0m \u001b[0mnp\u001b[0m\u001b[1;33m\u001b[0m\u001b[1;33m\u001b[0m\u001b[0m\n\u001b[1;32m----> 2\u001b[1;33m \u001b[1;32mimport\u001b[0m \u001b[0mtensorflow\u001b[0m \u001b[1;32mas\u001b[0m \u001b[0mtf\u001b[0m\u001b[1;33m\u001b[0m\u001b[1;33m\u001b[0m\u001b[0m\n\u001b[0m\u001b[0;32m      3\u001b[0m \u001b[1;32mimport\u001b[0m \u001b[0mmatplotlib\u001b[0m\u001b[1;33m.\u001b[0m\u001b[0mpyplot\u001b[0m \u001b[1;32mas\u001b[0m \u001b[0mplt\u001b[0m\u001b[1;33m\u001b[0m\u001b[1;33m\u001b[0m\u001b[0m\n\u001b[0;32m      4\u001b[0m \u001b[1;33m\u001b[0m\u001b[0m\n\u001b[0;32m      5\u001b[0m \u001b[1;32mimport\u001b[0m \u001b[0mos\u001b[0m\u001b[1;33m\u001b[0m\u001b[1;33m\u001b[0m\u001b[0m\n",
      "\u001b[1;31mModuleNotFoundError\u001b[0m: No module named 'tensorflow'"
     ]
    }
   ],
   "source": [
    "import numpy as np\n",
    "import tensorflow as tf\n",
    "import matplotlib.pyplot as plt\n",
    "\n",
    "import os\n",
    "import random"
   ]
  },
  {
   "cell_type": "code",
   "execution_count": 7,
   "metadata": {},
   "outputs": [],
   "source": [
    "BASE_PATH = f\"{os.path.abspath('')}/../data/iris/iris.data\""
   ]
  },
  {
   "cell_type": "code",
   "execution_count": 8,
   "metadata": {},
   "outputs": [],
   "source": [
    "def preprocessing():\n",
    "    CLASSES = [\"Iris-setosa\", \"Iris-versicolor\", \"Iris-virginica\"]\n",
    "\n",
    "    new_file_content = []\n",
    "    with open(BASE_PATH, \"r\") as f:\n",
    "        for line in f:\n",
    "            stripped_line = line.strip()\n",
    "            stripped_line = stripped_line.split(\",\")\n",
    "\n",
    "            if len(stripped_line) != 5:\n",
    "                continue\n",
    "\n",
    "            for i in range(len(CLASSES)):\n",
    "                if stripped_line[4] == CLASSES[i]:\n",
    "                    stripped_line[4] = str(i)\n",
    "\n",
    "            stripped_line = \",\".join(stripped_line)\n",
    "            new_file_content.append(stripped_line)\n",
    "\n",
    "    with open(BASE_PATH, \"w\") as f:\n",
    "        random.shuffle(new_file_content)\n",
    "        new_file_content = \"\\n\".join(new_file_content)\n",
    "        f.write(new_file_content)\n",
    "\n",
    "    with open(BASE_PATH, \"r\") as f:     \n",
    "        data = np.loadtxt(f, delimiter=\",\")\n",
    "        \n",
    "    return np.hsplit(data, [4])"
   ]
  },
  {
   "cell_type": "code",
   "execution_count": 10,
   "metadata": {},
   "outputs": [],
   "source": [
    "def linear_regression(iris_x, iris_y): \n",
    "    # Use only one feature\n",
    "    iris_x = iris_x[:, np.newaxis, 2]\n",
    "    \n",
    "    iris_x_train = iris_x[:-20]\n",
    "    iris_x_test = iris_x[-20:]\n",
    "\n",
    "    iris_y_train = iris_y[:-20]\n",
    "    iris_y_test = iris_y[-20:]\n",
    "    \n",
    "    X = tf.placeholder(\"float\")\n",
    "    Y = tf.placeholder(\"float\")\n",
    "    W = tf.Variable(np.random.randn(), name = \"W\")\n",
    "    b = tf.Variable(np.random.randn(), name = \"b\")\n",
    "    \n",
    "    learning_rate = 0.01\n",
    "    training_epochs = 1000\n",
    "    \n",
    "    \n",
    "    # Hypothesis\n",
    "    iris_y_pred = tf.add(tf.multiply(X, W), b)\n",
    "    \n",
    "    # Mean Squared Error Cost Function\n",
    "    cost = tf.reduce_sum(tf.pow(iris_y_pred-Y, 2)) / (2 * n)\n",
    "    \n",
    "    # Gradient Descent Optimizer\n",
    "    optimizer = tf.train.GradientDescentOptimizer(learning_rate).minimize(cost)\n",
    "    \n",
    "    # Global Variables Initializer\n",
    "    init = tf.global_variables_initializer()\n",
    "    \n",
    "    with tf.Session() as sess:\n",
    "        sees.run(init)\n",
    "        \n",
    "        for epoch in range(training_epochs):\n",
    "            for (_x, _y) in zip(x, y):\n",
    "                sess.run(optimizer, feed_dict = {X : _x, Y : _y})\n",
    "            \n",
    "            if (epoch + 1) % 50 == 0:\n",
    "                c = sess.run(cost, feed_dict = {X : x, Y : y})\n",
    "                print(\"Epoch\", (epoch + 1), \": cost =\", c, \"W =\", sess.run(W), \"b =\", sess.run(b))\n",
    "        \n",
    "        training_cost = sess.run(cost, feed_dict ={X: x, Y: y})\n",
    "        weight = sess.run(W)\n",
    "        bias = sess.run(b)\n",
    "    \n",
    "    predictions = weight * iris_x_test + bias\n",
    "    \n",
    "    # Plotting the Results\n",
    "    plt.plot(iris_x_train, iris_y_train, 'ro', label ='Original data')\n",
    "    plt.plot(iris_x_test, predictions, label ='Fitted line')\n",
    "    plt.title('Linear Regression Result')\n",
    "    plt.legend()\n",
    "    plt.show()"
   ]
  },
  {
   "cell_type": "code",
   "execution_count": null,
   "metadata": {},
   "outputs": [],
   "source": [
    "def decision_tree(iris_x, iris_y):\n",
    "        "
   ]
  },
  {
   "cell_type": "code",
   "execution_count": 11,
   "metadata": {},
   "outputs": [
    {
     "ename": "NameError",
     "evalue": "name 'random' is not defined",
     "output_type": "error",
     "traceback": [
      "\u001b[1;31m---------------------------------------------------------------------------\u001b[0m",
      "\u001b[1;31mNameError\u001b[0m                                 Traceback (most recent call last)",
      "\u001b[1;32m<ipython-input-11-99c826ed94a9>\u001b[0m in \u001b[0;36m<module>\u001b[1;34m\u001b[0m\n\u001b[1;32m----> 1\u001b[1;33m \u001b[0miris_x\u001b[0m\u001b[1;33m,\u001b[0m \u001b[0miris_y\u001b[0m \u001b[1;33m=\u001b[0m \u001b[0mpreprocessing\u001b[0m\u001b[1;33m(\u001b[0m\u001b[1;33m)\u001b[0m\u001b[1;33m\u001b[0m\u001b[1;33m\u001b[0m\u001b[0m\n\u001b[0m",
      "\u001b[1;32m<ipython-input-8-e9bf2795fa20>\u001b[0m in \u001b[0;36mpreprocessing\u001b[1;34m()\u001b[0m\n\u001b[0;32m     19\u001b[0m \u001b[1;33m\u001b[0m\u001b[0m\n\u001b[0;32m     20\u001b[0m     \u001b[1;32mwith\u001b[0m \u001b[0mopen\u001b[0m\u001b[1;33m(\u001b[0m\u001b[0mBASE_PATH\u001b[0m\u001b[1;33m,\u001b[0m \u001b[1;34m\"w\"\u001b[0m\u001b[1;33m)\u001b[0m \u001b[1;32mas\u001b[0m \u001b[0mf\u001b[0m\u001b[1;33m:\u001b[0m\u001b[1;33m\u001b[0m\u001b[1;33m\u001b[0m\u001b[0m\n\u001b[1;32m---> 21\u001b[1;33m         \u001b[0mrandom\u001b[0m\u001b[1;33m.\u001b[0m\u001b[0mshuffle\u001b[0m\u001b[1;33m(\u001b[0m\u001b[0mnew_file_content\u001b[0m\u001b[1;33m)\u001b[0m\u001b[1;33m\u001b[0m\u001b[1;33m\u001b[0m\u001b[0m\n\u001b[0m\u001b[0;32m     22\u001b[0m         \u001b[0mnew_file_content\u001b[0m \u001b[1;33m=\u001b[0m \u001b[1;34m\"\\n\"\u001b[0m\u001b[1;33m.\u001b[0m\u001b[0mjoin\u001b[0m\u001b[1;33m(\u001b[0m\u001b[0mnew_file_content\u001b[0m\u001b[1;33m)\u001b[0m\u001b[1;33m\u001b[0m\u001b[1;33m\u001b[0m\u001b[0m\n\u001b[0;32m     23\u001b[0m         \u001b[0mf\u001b[0m\u001b[1;33m.\u001b[0m\u001b[0mwrite\u001b[0m\u001b[1;33m(\u001b[0m\u001b[0mnew_file_content\u001b[0m\u001b[1;33m)\u001b[0m\u001b[1;33m\u001b[0m\u001b[1;33m\u001b[0m\u001b[0m\n",
      "\u001b[1;31mNameError\u001b[0m: name 'random' is not defined"
     ]
    }
   ],
   "source": [
    "iris_x, iris_y = preprocessing()"
   ]
  },
  {
   "cell_type": "code",
   "execution_count": null,
   "metadata": {},
   "outputs": [],
   "source": []
  }
 ],
 "metadata": {
  "kernelspec": {
   "display_name": "Python 3",
   "language": "python",
   "name": "python3"
  },
  "language_info": {
   "codemirror_mode": {
    "name": "ipython",
    "version": 3
   },
   "file_extension": ".py",
   "mimetype": "text/x-python",
   "name": "python",
   "nbconvert_exporter": "python",
   "pygments_lexer": "ipython3",
   "version": "3.8.5"
  }
 },
 "nbformat": 4,
 "nbformat_minor": 4
}
