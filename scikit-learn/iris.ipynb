{
 "cells": [
  {
   "cell_type": "code",
   "execution_count": 1,
   "metadata": {},
   "outputs": [],
   "source": [
    "import matplotlib.pyplot as plt\n",
    "import numpy as np\n",
    "from sklearn import linear_model, tree\n",
    "from sklearn.metrics import mean_squared_error, r2_score\n",
    "import os\n",
    "import random"
   ]
  },
  {
   "cell_type": "code",
   "execution_count": 2,
   "metadata": {},
   "outputs": [],
   "source": [
    "BASE_PATH = f\"{os.path.abspath('')}/../data/iris/iris.data\""
   ]
  },
  {
   "cell_type": "code",
   "execution_count": 3,
   "metadata": {},
   "outputs": [],
   "source": [
    "def preprocessing():\n",
    "    CLASSES = [\"Iris-setosa\", \"Iris-versicolor\", \"Iris-virginica\"]\n",
    "\n",
    "    new_file_content = []\n",
    "    with open(BASE_PATH, \"r\") as f:\n",
    "        for line in f:\n",
    "            stripped_line = line.strip()\n",
    "            stripped_line = stripped_line.split(\",\")\n",
    "\n",
    "            if len(stripped_line) != 5:\n",
    "                continue\n",
    "\n",
    "            for i in range(len(CLASSES)):\n",
    "                if stripped_line[4] == CLASSES[i]:\n",
    "                    stripped_line[4] = str(i)\n",
    "\n",
    "            stripped_line = \",\".join(stripped_line)\n",
    "            new_file_content.append(stripped_line)\n",
    "\n",
    "    with open(BASE_PATH, \"w\") as f:\n",
    "        random.shuffle(new_file_content)\n",
    "        new_file_content = \"\\n\".join(new_file_content)\n",
    "        f.write(new_file_content)\n",
    "\n",
    "    with open(BASE_PATH, \"r\") as f:     \n",
    "        data = np.loadtxt(f, delimiter=\",\")\n",
    "        \n",
    "    return np.hsplit(data, [4])"
   ]
  },
  {
   "cell_type": "code",
   "execution_count": 17,
   "metadata": {},
   "outputs": [],
   "source": [
    "def linear_regression(iris_x, iris_y): \n",
    "    # Use only one feature\n",
    "    iris_x = iris_x[:, np.newaxis, 2]\n",
    "    \n",
    "    iris_x_train = iris_x[:-20]\n",
    "    iris_x_test = iris_x[-20:]\n",
    "\n",
    "    iris_y_train = iris_y[:-20]\n",
    "    iris_y_test = iris_y[-20:]\n",
    "\n",
    "    model = linear_model.LinearRegression()\n",
    "    model = model.fit(iris_x_train, iris_y_train)\n",
    "    iris_y_pred = model.predict(iris_x_test)     \n",
    "    \n",
    "    print('Coefficients: \\n', model.coef_)"
   ]
  },
  {
   "cell_type": "code",
   "execution_count": 13,
   "metadata": {},
   "outputs": [],
   "source": [
    "def decision_tree(iris_x, iris_y):\n",
    "    iris_x_train = iris_x[:-20]\n",
    "    iris_x_test = iris_x[-20:]\n",
    "\n",
    "    iris_y_train = iris_y[:-20]\n",
    "    iris_y_test = iris_y[-20:]\n",
    "    \n",
    "    model = tree.DecisionTreeClassifier()\n",
    "    model = model.fit(iris_x_train, iris_y_train)\n",
    "    iris_y_pred = model.predict(iris_x_test)\n",
    "    \n",
    "    print('Score: \\n', model.score(iris_x_test,iris_y_test))"
   ]
  },
  {
   "cell_type": "code",
   "execution_count": 6,
   "metadata": {},
   "outputs": [],
   "source": [
    "iris_x, iris_y = preprocessing()"
   ]
  },
  {
   "cell_type": "code",
   "execution_count": 18,
   "metadata": {},
   "outputs": [
    {
     "name": "stdout",
     "output_type": "stream",
     "text": [
      "Coefficients: \n",
      " [[-0.05603265 -0.08661176  0.14439378  0.7329841 ]]\n"
     ]
    }
   ],
   "source": [
    "linear_regression(iris_x, iris_y)\n",
    "decision_tree(iris_x, iris_y)"
   ]
  },
  {
   "cell_type": "code",
   "execution_count": null,
   "metadata": {},
   "outputs": [],
   "source": []
  }
 ],
 "metadata": {
  "kernelspec": {
   "display_name": "Python 3",
   "language": "python",
   "name": "python3"
  },
  "language_info": {
   "codemirror_mode": {
    "name": "ipython",
    "version": 3
   },
   "file_extension": ".py",
   "mimetype": "text/x-python",
   "name": "python",
   "nbconvert_exporter": "python",
   "pygments_lexer": "ipython3",
   "version": "3.8.5"
  }
 },
 "nbformat": 4,
 "nbformat_minor": 4
}
