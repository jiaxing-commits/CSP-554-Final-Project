{
 "cells": [
  {
   "cell_type": "code",
   "execution_count": 7,
   "metadata": {},
   "outputs": [],
   "source": [
    "from pyspark import SparkConf, SparkContext\n",
    "from pyspark.sql import SQLContext\n",
    "from pyspark.ml.feature import VectorAssembler, StringIndexer, VectorIndexer\n",
    "from pyspark.ml.regression import LinearRegression\n",
    "from pyspark.ml import Pipeline\n",
    "from pyspark.ml.classification import DecisionTreeClassifier\n",
    "from pyspark.ml.evaluation import MulticlassClassificationEvaluator\n",
    "import os"
   ]
  },
  {
   "cell_type": "code",
   "execution_count": 8,
   "metadata": {},
   "outputs": [],
   "source": [
    "BASE_PATH = f\"{os.path.abspath('')}/../data/iris/iris.data\""
   ]
  },
  {
   "cell_type": "code",
   "execution_count": null,
   "metadata": {},
   "outputs": [],
   "source": [
    "def linear_regression(sqlContext):\n",
    "    struct = StructType([\n",
    "        StructField('sepal_length', FloatType(), True),\n",
    "        StructField('sepal_width', FloatType(), True),\n",
    "        StructField('petal_length', FloatType(), True),\n",
    "        StructField('petal_width', FloatType(), True),\n",
    "        StructField('species', StringType(), True)])\n",
    "    iris_df = spark.read.schema(struct).csv(BASE_PATH ,header=False)\n",
    "    \n",
    "    vectorAssembler = VectorAssembler(inputCols = ['sepal_len','sepal_wid','petal_len','petal_wid'], outputCol = 'features')\n",
    "    viris_df = vectorAssembler.transform(iris_df)\n",
    "    viris_df = viris_df.select(['features', 'output'])\n",
    "    \n",
    "    splits = viris_df.randomSplit([0.8, 0.2])\n",
    "    train_df = splits[0]\n",
    "    test_df = splits[1]\n",
    "    \n",
    "    lr = LinearRegression(featuresCol = 'features', labelCol='output', maxIter=10, regParam=0.3, elasticNetParam=0.8)\n",
    "    lr_model = lr.fit(train_df)\n",
    "    print(\"Coefficients: \" + str(lr_model.coefficients))\n",
    "    print(\"Intercept: \" + str(lr_model.intercept))\n",
    "    trainingSummary = lr_model.summary\n",
    "    print(\"RMSE: %f\" % trainingSummary.rootMeanSquaredError)\n",
    "    print(\"r2: %f\" % trainingSummary.r2)\n",
    "    train_df.describe().show()"
   ]
  },
  {
   "cell_type": "code",
   "execution_count": null,
   "metadata": {},
   "outputs": [],
   "source": [
    "def decision_tree(sqlContext):\n",
    "    \n",
    "    struct = StructType([\n",
    "        StructField('sepal_length', FloatType(), True),\n",
    "        StructField('sepal_width', FloatType(), True),\n",
    "        StructField('petal_length', FloatType(), True),\n",
    "        StructField('petal_width', FloatType(), True),\n",
    "        StructField('species', StringType(), True)])\n",
    "    iris_df = spark.read.schema(struct).csv(BASE_PATH ,header=False)\n",
    "    \n",
    "    labelIndexer = StringIndexer(inputCol=\"label\", outputCol=\"indexedLabel\").fit(iris_df)\n",
    "    \n",
    "    featureIndexer = VectorIndexer(inputCol=\"features\", outputCol=\"indexedFeatures\", maxCategories=5).fit(iris_df)\n",
    "    \n",
    "    (trainingData, testData) = data.randomSplit([0.8, 0.2])\n",
    "    dt = DecisionTreeClassifier(labelCol=\"indexedLabel\", featuresCol=\"indexedFeatures\")\n",
    "    \n",
    "    pipeline = Pipeline(stages=[labelIndexer, featureIndexer, dt])\n",
    "    model = pipeline.fit(trainingData)\n",
    "    predictions = model.transform(testData)\n",
    "    \n",
    "    predictions.select(\"prediction\", \"indexedLabel\", \"features\").show(5)\n",
    "    \n",
    "    evaluator = MulticlassClassificationEvaluator(\n",
    "    labelCol=\"indexedLabel\", predictionCol=\"prediction\", metricName=\"accuracy\")\n",
    "    accuracy = evaluator.evaluate(predictions)\n",
    "    print(\"Test Error = %g \" % (1.0 - accuracy))\n",
    "\n",
    "    treeModel = model.stages[2]\n",
    "    # summary only\n",
    "    print(treeModel)"
   ]
  },
  {
   "cell_type": "code",
   "execution_count": null,
   "metadata": {},
   "outputs": [],
   "source": [
    "sc= SparkContext()\n",
    "sqlContext = SQLContext(sc)"
   ]
  },
  {
   "cell_type": "code",
   "execution_count": null,
   "metadata": {},
   "outputs": [],
   "source": [
    "linear_regression(sqlContext)\n",
    "decision_tree(sql_Context)"
   ]
  }
 ],
 "metadata": {
  "kernelspec": {
   "display_name": "Python 3",
   "language": "python",
   "name": "python3"
  },
  "language_info": {
   "codemirror_mode": {
    "name": "ipython",
    "version": 3
   },
   "file_extension": ".py",
   "mimetype": "text/x-python",
   "name": "python",
   "nbconvert_exporter": "python",
   "pygments_lexer": "ipython3",
   "version": "3.8.5"
  }
 },
 "nbformat": 4,
 "nbformat_minor": 4
}
